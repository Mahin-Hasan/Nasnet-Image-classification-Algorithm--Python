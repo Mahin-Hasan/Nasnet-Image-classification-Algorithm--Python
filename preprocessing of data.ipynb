{
 "cells": [
  {
   "cell_type": "code",
   "execution_count": 1,
   "id": "8d940b4d",
   "metadata": {},
   "outputs": [
    {
     "name": "stdout",
     "output_type": "stream",
     "text": [
      "ok\n"
     ]
    }
   ],
   "source": [
    "print(\"ok\")"
   ]
  },
  {
   "cell_type": "code",
   "execution_count": 1,
   "id": "467f1cd4",
   "metadata": {},
   "outputs": [],
   "source": [
    "import os\n",
    "import shutil\n",
    "import random\n",
    "\n",
    "seed= 1\n",
    "random.seed(seed)\n",
    "directory = \"ISIC/images\"\n",
    "train = \"data/train/\"\n",
    "test = \"data/test/\"\n",
    "validation = \"data/validation/\"\n",
    "\n",
    "\n",
    "os.makedirs(train +  \"benign/\")\n",
    "os.makedirs(train +  \"malignant/\")\n",
    "os.makedirs(test +  \"benign/\")\n",
    "os.makedirs(test +  \"malignant/\")\n",
    "os.makedirs(validation +  \"benign/\")\n",
    "os.makedirs(validation +  \"malignant/\")\n",
    "\n",
    "test_examples = train_examples = validation_examples = 0\n",
    "\n",
    "for line in open(\"ISIC/labels.csv\").readlines()[1:]:\n",
    "    split_line = line.split(\",\")\n",
    "    img_file = split_line[0]\n",
    "    benign_malign = split_line[1]\n",
    "    \n",
    "    random_num = random.random()\n",
    "    \n",
    "    if random_num<0.8:\n",
    "        location = train\n",
    "        train_examples += 1\n",
    "    elif random_num <0.9:\n",
    "        location = validation\n",
    "        validation_examples += 1\n",
    "    else:\n",
    "        loaction = test\n",
    "        test_examples +=1\n",
    "        \n",
    "    if int(float(benign_malign)) == 0:\n",
    "        shutil.copy(\n",
    "            \"ISIC/images/\" + img_file + \".jpg\",\n",
    "            location + \"benign/\" + img_file + \".jpg\",\n",
    "        )\n",
    "    elif int(float(benign_malign)) == 1:\n",
    "        shutil.copy(\n",
    "            \"ISIC/images/\" + img_file + \".jpg\",\n",
    "            location + \"malignant/\" + img_file + \".jpg\",\n",
    "        ) \n"
   ]
  },
  {
   "cell_type": "code",
   "execution_count": 2,
   "id": "1441e2b0",
   "metadata": {},
   "outputs": [
    {
     "name": "stdout",
     "output_type": "stream",
     "text": [
      "Number of training examples 20225\n",
      "Number of test examples 2555\n",
      "Number of validation examples 2551\n"
     ]
    }
   ],
   "source": [
    "print(f\"Number of training examples {train_examples}\")\n",
    "print(f\"Number of test examples {test_examples}\")\n",
    "print(f\"Number of validation examples {validation_examples}\")"
   ]
  },
  {
   "cell_type": "code",
   "execution_count": null,
   "id": "fe5114ec",
   "metadata": {},
   "outputs": [],
   "source": []
  },
  {
   "cell_type": "code",
   "execution_count": null,
   "id": "d76409be",
   "metadata": {},
   "outputs": [],
   "source": []
  }
 ],
 "metadata": {
  "kernelspec": {
   "display_name": "Python 3 (ipykernel)",
   "language": "python",
   "name": "python3"
  },
  "language_info": {
   "codemirror_mode": {
    "name": "ipython",
    "version": 3
   },
   "file_extension": ".py",
   "mimetype": "text/x-python",
   "name": "python",
   "nbconvert_exporter": "python",
   "pygments_lexer": "ipython3",
   "version": "3.10.7"
  }
 },
 "nbformat": 4,
 "nbformat_minor": 5
}
